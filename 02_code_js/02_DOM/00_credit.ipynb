{
 "cells": [
  {
   "cell_type": "code",
   "execution_count": 10,
   "metadata": {},
   "outputs": [
    {
     "name": "stdout",
     "output_type": "stream",
     "text": [
      "84.32558139534883\n"
     ]
    }
   ],
   "source": [
    "zongxuefen=2+0+2+2+2+3+2+2+2+0.5+5+5+4+4+4+0.5+1+3+2+3+2+0.5+4+3+4+6+1+3+0.5+2+0.5+4+7+4+4+3+4+3+0.5+4+4+4+4+4+4\n",
    "fenmu=2*84+0+2*85+2*82+2*85+3*73+2*87+2*70+2*93+0.5*84+5*88+5*99+4*90+4*90+4*76+0.5*84+1*90+3*88+2*84+3*80+2*84+0.5*92+4*81+3*93+4*87+6*82+1*82+3*92+0.5*84+2*90+0.5*90+4*80+7*75+4*80+4*81+3*78+4*76+3*81+0.5*84+4*94+4*89+4*87+4*82+4*85+4*85\n",
    "print(fenmu/zongxuefen)\n",
    "\n"
   ]
  },
  {
   "cell_type": "code",
   "execution_count": null,
   "metadata": {},
   "outputs": [],
   "source": [
    "xueqi1=86.09\n",
    "fen1=44\n",
    "xueqi2=85.32\n",
    "fen2=31\n",
    "xueqi3=78.47\n",
    "fen3=29.5\n",
    "xueqi4=84.75\n",
    "fen4=29.5"
   ]
  },
  {
   "cell_type": "code",
   "execution_count": 11,
   "metadata": {},
   "outputs": [
    {
     "name": "stdout",
     "output_type": "stream",
     "text": [
      "83.93932835820895\n"
     ]
    }
   ],
   "source": [
    "zong=44+31+29.5*2\n",
    "fen=86.09*44+85.32*31+78.47*29.5+84.75*29.5\n",
    "print(fen/zong)"
   ]
  },
  {
   "cell_type": "code",
   "execution_count": 13,
   "metadata": {},
   "outputs": [
    {
     "name": "stdout",
     "output_type": "stream",
     "text": [
      "90.46307692307695\n"
     ]
    }
   ],
   "source": [
    "zhexueqi=4+4+4+4+5+5\n",
    "yaokaodefen=(85*(zhexueqi+zong)-83.94*zong)/zhexueqi\n",
    "print(yaokaodefen)"
   ]
  },
  {
   "cell_type": "code",
   "execution_count": null,
   "metadata": {},
   "outputs": [],
   "source": []
  }
 ],
 "metadata": {
  "kernelspec": {
   "display_name": "Python 3",
   "language": "python",
   "name": "python3"
  },
  "language_info": {
   "codemirror_mode": {
    "name": "ipython",
    "version": 3
   },
   "file_extension": ".py",
   "mimetype": "text/x-python",
   "name": "python",
   "nbconvert_exporter": "python",
   "pygments_lexer": "ipython3",
   "version": "3.10.11"
  }
 },
 "nbformat": 4,
 "nbformat_minor": 2
}
